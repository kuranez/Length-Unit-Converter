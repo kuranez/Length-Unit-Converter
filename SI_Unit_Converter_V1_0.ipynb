{
 "cells": [
  {
   "cell_type": "code",
   "execution_count": 1,
   "metadata": {
    "id": "xkwGlq1AIzZO"
   },
   "outputs": [],
   "source": [
    "import ipywidgets as widgets\n",
    "from IPython.display import display, HTML"
   ]
  },
  {
   "cell_type": "code",
   "execution_count": 2,
   "metadata": {
    "id": "VSS3v5WmI4Np"
   },
   "outputs": [
    {
     "data": {
      "text/html": [
       "<style>.bottom-spacing-class {margin-bottom: 10px;}</style>"
      ],
      "text/plain": [
       "<IPython.core.display.HTML object>"
      ]
     },
     "metadata": {},
     "output_type": "display_data"
    },
    {
     "data": {
      "text/html": [
       "<style>.top-spacing-class {margin-top: 5px;}</style>"
      ],
      "text/plain": [
       "<IPython.core.display.HTML object>"
      ]
     },
     "metadata": {},
     "output_type": "display_data"
    },
    {
     "data": {
      "application/vnd.jupyter.widget-view+json": {
       "model_id": "970b2fb64cf64a1eacf2847dbf111a10",
       "version_major": 2,
       "version_minor": 0
      },
      "text/plain": [
       "VBox(children=(VBox(children=(HTML(value=\"<b><center><font size = '+2'>Einheitenumrechner für Längenmaße</font…"
      ]
     },
     "metadata": {},
     "output_type": "display_data"
    }
   ],
   "source": [
    "# SI-Unit-Converter-App V1.0\n",
    "\n",
    "# --- I. Variablen: GUI-Elemente -----------------------------------------------\n",
    "\n",
    "# ------ Header: Titel ---------------------------------------------------------\n",
    "\n",
    "title_text = \"Einheitenumrechner für Längenmaße\"\n",
    "title = widgets.HTML(value = f\"<b><center><font size = '+2'>{title_text}</font></center></b>\")\n",
    "\n",
    "title.add_class(\"bottom-spacing-class\")\n",
    "\n",
    "description_text = \"Tool zum Umrechnen von Längenmaßen in SI-Einheiten / Metrisch.\"\n",
    "description = widgets.HTML(value = f\"<font size ='+1'>{description_text}</font>\")\n",
    "\n",
    "description.add_class(\"bottom-spacing-class\")\n",
    "\n",
    "# ------ Content: Eingabe, Ausgabe, Buttons, etc. ------------------------------\n",
    "\n",
    "# Felder für Werte\n",
    "value_in = widgets.FloatText(value=10**0, description='Eingabe:', layout={'width': '48%'})\n",
    "value_out = widgets.FloatText(value=10**0, description='Ausgabe:', layout={'width': '48%'}, disabled = True)\n",
    "\n",
    "# Menüs für Einheiten\n",
    "unit_in = widgets.Dropdown(\n",
    "    options=[('km', 10**3), ('hm', 10**2), ('dam', 10**1), ('m', 10**0), ('dm', 10**-1), ('cm', 10**-2), ('mm', 10**-3), ('μm', 10**-6), ('nm', 10**-9), ('pm', 10**-12), ('fm', 10**-15)],\n",
    "    value=10**0,\n",
    "    description='von Einheit:',\n",
    "    layout={'width': '48%'})\n",
    "\n",
    "unit_out = widgets.Dropdown(\n",
    "    options=[('km', 10**3), ('hm', 10**2), ('dam', 10**1), ('m', 10**0), ('dm', 10**-1), ('cm', 10**-2), ('mm', 10**-3), ('μm', 10**-6), ('nm', 10**-9), ('pm', 10**-12), ('fm', 10**-15)],\n",
    "    value=10**0,\n",
    "    description='in Einheit:',\n",
    "    layout={'width': '48%'})\n",
    "\n",
    "# Output\n",
    "out = widgets.Output()\n",
    "\n",
    "# Button\n",
    "submit_button = widgets.Button(description='Konvertieren', layout={'width':'98%'})\n",
    "\n",
    "submit_button.add_class(\"top-spacing-class\")\n",
    "\n",
    "# ------ Layout ----------------------------------------------------------------\n",
    "\n",
    "# Header\n",
    "header = widgets.VBox([title, description])\n",
    "\n",
    "# Content\n",
    "hbox1 = widgets.HBox([value_in, value_out])\n",
    "hbox2 = widgets.HBox([unit_in, unit_out])\n",
    "grid = widgets.VBox([hbox1, hbox2])\n",
    "\n",
    "# Footer\n",
    "\n",
    "# All\n",
    "ui = widgets.VBox([header, grid, submit_button])\n",
    "\n",
    "# --- II. Funktionen -----------------------------------------------------------\n",
    "\n",
    "# Berechnung\n",
    "def calculate(value_in, unit_in, unit_out):\n",
    "  return value_in.value * unit_in.value / unit_out.value\n",
    "\n",
    "# Ausführung\n",
    "def submit(button):\n",
    "    value_out.value = calculate(value_in, unit_in, unit_out)\n",
    "    out.clear_output()\n",
    "    with out:\n",
    "        display(value_out.value)\n",
    "\n",
    "# --- III. Ausführung ----------------------------------------------------------\n",
    "\n",
    "# Trigger\n",
    "submit_button.on_click(submit)\n",
    "\n",
    "# Anzeige\n",
    "display(HTML(\"<style>.bottom-spacing-class {margin-bottom: 10px;}</style>\"))\n",
    "display(HTML(\"<style>.top-spacing-class {margin-top: 5px;}</style>\"))\n",
    "\n",
    "display(ui)"
   ]
  },
  {
   "cell_type": "code",
   "execution_count": null,
   "metadata": {},
   "outputs": [],
   "source": []
  }
 ],
 "metadata": {
  "colab": {
   "provenance": []
  },
  "kernelspec": {
   "display_name": "Python 3 (ipykernel)",
   "language": "python",
   "name": "python3"
  },
  "language_info": {
   "codemirror_mode": {
    "name": "ipython",
    "version": 3
   },
   "file_extension": ".py",
   "mimetype": "text/x-python",
   "name": "python",
   "nbconvert_exporter": "python",
   "pygments_lexer": "ipython3",
   "version": "3.10.14"
  }
 },
 "nbformat": 4,
 "nbformat_minor": 4
}
