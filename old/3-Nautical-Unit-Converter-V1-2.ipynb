{
 "cells": [
  {
   "cell_type": "markdown",
   "id": "8e897c4a-27d7-45a7-abb1-f0395fe36b33",
   "metadata": {
    "id": "bjjm-QzZspv7"
   },
   "source": [
    "## Nautical Units to Metric & US\n",
    "---"
   ]
  },
  {
   "cell_type": "code",
   "execution_count": 1,
   "id": "97e0fe92-b8e3-42f8-98c1-339198c8dce4",
   "metadata": {
    "colab": {
     "base_uri": "https://localhost:8080/",
     "height": 129,
     "referenced_widgets": [
      "5320681c48884109b578e8397ffeacc5",
      "ab7bc77ac8d64bc9819e94f7293fd90a",
      "0c4dc81f60b848c19d40a0444a1d8838",
      "5417a309234646f78b90297e85ec2c04",
      "ddbb1055a335464da76256d2741f14f0",
      "d43c17c4b08948e98200ea8fb9b14d3c",
      "c1a7edab5d1444a1a60f9dfdf7c617e5",
      "6a405b860f8844b6afb8d801012a80d2",
      "ebbc26ed18ea4cdc9e7f741f4f8a4bff",
      "3b8617ee32654057aff597a7d638c1d0",
      "d65495057e4d4b0b88df9e60592fb04f",
      "ecc9938d968442aab2ce26dbe6839a09",
      "7006b5278e6843c1a5c8205e8b132420",
      "db5f34714e544db7880d315c9acfd332",
      "9eb00d12ea5f43c396a5ba29affd82cb",
      "af9da6919fb9487d84f34896df556cbf",
      "82ee3aebf60e407196e1d4e3e7b5f932",
      "588d98e145174a0bbf22c9703e9584b6",
      "e215c1e993754ea1bab4ce7f43221e24",
      "82bf7c25d79b4fbdaf06be6430ebc49b",
      "4e0ef4b5fef14134b2ff918dd383593a",
      "c0c3ae14fb19469b8fd32e2cbac1a799",
      "77d95789b3b14542b4d79c262d91e43e"
     ]
    },
    "id": "8unsm11avhNo",
    "outputId": "66302255-100c-43fb-cdbe-3e55d4529765",
    "scrolled": true
   },
   "outputs": [
    {
     "data": {
      "text/html": [
       "<style>.top-spacing-class {margin-top: 10px;}</style>"
      ],
      "text/plain": [
       "<IPython.core.display.HTML object>"
      ]
     },
     "metadata": {},
     "output_type": "display_data"
    },
    {
     "data": {
      "text/html": [
       "<style>.bottom-spacing-class {margin-bottom: 10px;}</style>"
      ],
      "text/plain": [
       "<IPython.core.display.HTML object>"
      ]
     },
     "metadata": {},
     "output_type": "display_data"
    },
    {
     "data": {
      "application/vnd.jupyter.widget-view+json": {
       "model_id": "dc25a4aed49e4b2085f1c6a9be88dc1a",
       "version_major": 2,
       "version_minor": 0
      },
      "text/plain": [
       "VBox(children=(VBox(children=(HBox(children=(FloatText(value=1.0, description='input:', layout=Layout(width='4…"
      ]
     },
     "metadata": {},
     "output_type": "display_data"
    }
   ],
   "source": [
    "# Nautical-Unit-Converter-App V1.2\n",
    "\n",
    "import ipywidgets as widgets\n",
    "from IPython.display import display, HTML\n",
    "\n",
    "# --- I. Variablen: GUI-Elemente -----------------------------------------------\n",
    "\n",
    "# ------ Content: Eingabe, Ausgabe, Buttons, etc. ------------------------------\n",
    "\n",
    "# Felder für Werte\n",
    "value_in_naut = widgets.FloatText(value=1, description='input:', layout={'width': '48%'})\n",
    "value_out_naut = widgets.FloatText(value=1852, description='output:', layout={'width': '48%'}, disabled = True)\n",
    "\n",
    "# Menüs für Einheiten\n",
    "\n",
    "unit_in_naut = widgets.Dropdown(\n",
    "    options=[('m', 1), ('km', 1000), \t('mile', 1609.44), ('sm', 1852)],\n",
    "    value=1,\n",
    "    description='from unit:',\n",
    "    layout={'width': '48%'})\n",
    "\n",
    "\n",
    "unit_out_naut = widgets.Dropdown(\n",
    "    options=[('m', 1), ('km', 1000), \t('mile', 1609.44), ('sm', 1852)],\n",
    "    value=1852,\n",
    "    description='to unit:',\n",
    "    layout={'width': '48%'})\n",
    "\n",
    "# Output\n",
    "out3 = widgets.Output()\n",
    "\n",
    "# Button\n",
    "submit_button_naut = widgets.Button(description='CONVERT', layout={'width':'98%'})\n",
    "submit_button_naut.add_class(\"top-spacing-class\")\n",
    "submit_button_naut.add_class(\"bottom-spacing-class\")\n",
    "\n",
    "# ------ Layout ----------------------------------------------------------------\n",
    "\n",
    "# Content\n",
    "hbox1_naut = widgets.HBox([value_in_naut, value_out_naut])\n",
    "hbox2_naut = widgets.HBox([unit_in_naut, unit_out_naut])\n",
    "grid_naut = widgets.VBox([hbox1_naut, hbox2_naut])\n",
    "\n",
    "# All\n",
    "ui_naut = widgets.VBox([grid_naut, submit_button_naut])\n",
    "\n",
    "# --- II. Funktionen -----------------------------------------------------------\n",
    "\n",
    "# Berechnung\n",
    "def calculate_naut(value_in_naut, unit_in_naut, unit_out_naut):\n",
    "  return value_in_naut.value * unit_out_naut.value / unit_in_naut.value\n",
    "\n",
    "# Ausführung\n",
    "def submit_naut(button):\n",
    "    value_out_naut.value = calculate_naut(value_in_naut, unit_in_naut, unit_out_naut)\n",
    "    out3.clear_output()\n",
    "    with out3:\n",
    "        display(value_out_naut.value)\n",
    "\n",
    "# --- III. Ausführung ----------------------------------------------------------\n",
    "\n",
    "# Trigger\n",
    "submit_button_naut.on_click(submit_naut)\n",
    "\n",
    "# Anzeige\n",
    "\n",
    "display(HTML(\"<style>.top-spacing-class {margin-top: 10px;}</style>\"))\n",
    "display(HTML(\"<style>.bottom-spacing-class {margin-bottom: 10px;}</style>\"))\n",
    "\n",
    "display(ui_naut)"
   ]
  },
  {
   "cell_type": "markdown",
   "id": "cf2fa8e1-261d-433e-a656-f122fbe04cf7",
   "metadata": {
    "id": "paisIbBMuydf"
   },
   "source": [
    "### Table: Nautical Units Conversion Aid\n",
    "---"
   ]
  },
  {
   "cell_type": "markdown",
   "id": "521cbb0f-e291-4a96-8ca8-1134b9dc81f2",
   "metadata": {
    "id": "CgFt4RQUwhY-"
   },
   "source": [
    "|unit              |symbol       |conversion factor |key:value        |tuple               |\n",
    "|------------------|-------------|------------------|-----------------|--------------------|\n",
    "|**meter**         |**m**        |**1**             |`m : 10**0`      |`('m', 1)`          |\n",
    "|kilometer         |km           |1000              |`km : 10**3`     |`('km', 1000)`      |\n",
    "|imperial mile     |mile         |1609.44           |`mile : 1609.44` |`('mile', 1609.44)` |\n",
    "|**nautical mile** |**sm**       | **1852**         |`sm : 1852`      |`('sm', 1852)`      |"
   ]
  }
 ],
 "metadata": {
  "kernelspec": {
   "display_name": "Python 3 (ipykernel)",
   "language": "python",
   "name": "python3"
  },
  "language_info": {
   "codemirror_mode": {
    "name": "ipython",
    "version": 3
   },
   "file_extension": ".py",
   "mimetype": "text/x-python",
   "name": "python",
   "nbconvert_exporter": "python",
   "pygments_lexer": "ipython3",
   "version": "3.10.14"
  }
 },
 "nbformat": 4,
 "nbformat_minor": 5
}
