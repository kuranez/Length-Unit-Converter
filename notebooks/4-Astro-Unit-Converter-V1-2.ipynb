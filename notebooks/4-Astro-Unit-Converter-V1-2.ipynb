{
 "cells": [
  {
   "cell_type": "markdown",
   "id": "e60f47c4-84b4-4215-b518-28e31b4d6b26",
   "metadata": {
    "id": "Su9rcJyPsujK"
   },
   "source": [
    "## Astronomical Distances\n",
    "---"
   ]
  },
  {
   "cell_type": "code",
   "execution_count": 1,
   "id": "6e5826e1-02e9-4b63-b0d3-a4880b12b6b5",
   "metadata": {
    "colab": {
     "base_uri": "https://localhost:8080/",
     "height": 129,
     "referenced_widgets": [
      "37f178514ee3471e8e378ef878e48874",
      "62ff13ec24124d1f90490c45d6a1e7f1",
      "59c6d8558ad84241b99fc1b8eea9ccb2",
      "19aca180d8634fbcbb2d1ef7fb8433e3",
      "fd236dd1c3a8482191a806f65f092464",
      "c5c9a824d65840fd9067b741803ff791",
      "46a499f04818483db43800958b892fa2",
      "6ecd4dbdea37484295a225e5f948a709",
      "184c72c964a64d068ecfe6978c5b0eae",
      "95068a5c575b4d459f58fc8d35427d54",
      "a68f83d613874600a5e0876398b4495f",
      "167e8b7cdd2042d39abe88b8323d8436",
      "48387818ec8b4e11bf3517316a0d9abe",
      "9ab23ce2bbec4e539aa3d674cac7696b",
      "24cdbd75e13c40419af7862a5af1166a",
      "140d4d1898b84f4ba0049d88a1103346",
      "5bed916ac91c41e0aa801aa4fa2c28bf",
      "d4140ead2f2c44c09e0f83afe40438ff",
      "6aee125c968a4bde80f4f66ab87245fc",
      "f56089c87610435dbb5c793c2634f6e5",
      "5c437e1dd8b84a659b436e1fa17e211c",
      "fe42e1d3c09b4294a9b37afbb0665be2",
      "14ceda9041e84885b74885da65883dcb"
     ]
    },
    "id": "5fPuTyEJBOM_",
    "outputId": "d7b73d5f-6ca1-4cc5-cd68-d8ece571ff11"
   },
   "outputs": [
    {
     "data": {
      "text/html": [
       "<style>.top-spacing-class {margin-top: 10px;}</style>"
      ],
      "text/plain": [
       "<IPython.core.display.HTML object>"
      ]
     },
     "metadata": {},
     "output_type": "display_data"
    },
    {
     "data": {
      "text/html": [
       "<style>.bottom-spacing-class {margin-bottom: 10px;}</style>"
      ],
      "text/plain": [
       "<IPython.core.display.HTML object>"
      ]
     },
     "metadata": {},
     "output_type": "display_data"
    },
    {
     "data": {
      "application/vnd.jupyter.widget-view+json": {
       "model_id": "9b7903935a804b3bae360c44e7ea8eef",
       "version_major": 2,
       "version_minor": 0
      },
      "text/plain": [
       "VBox(children=(VBox(children=(HBox(children=(FloatText(value=1.0, description='input:', layout=Layout(width='4…"
      ]
     },
     "metadata": {},
     "output_type": "display_data"
    }
   ],
   "source": [
    "# Astronomical-Distances-Unit-Converter-App V1.2\n",
    "\n",
    "import ipywidgets as widgets\n",
    "from IPython.display import display, HTML\n",
    "\n",
    "# --- I. Variablen: GUI-Elemente -----------------------------------------------\n",
    "\n",
    "# ------ Content: Eingabe, Ausgabe, Buttons, etc. ------------------------------\n",
    "\n",
    "# Felder für Werte\n",
    "value_in_astro = widgets.FloatText(value=1, description='input:', layout={'width': '48%'})\n",
    "value_out_astro = widgets.FloatText(value=1.49*10**11, description='output:', layout={'width': '48%'}, disabled = True)\n",
    "\n",
    "# Menüs für Einheiten\n",
    "\n",
    "unit_in_astro = widgets.Dropdown(\n",
    "    options=[('AU', 1.49*10**11),\n",
    "             ('ly', 9.461*10**15), ('Lh', 1.079*10**12), ('Lm', 1.799*10**9), ('Ls', 2.998*10**6),\n",
    "             ('pc', 3.086*10**16), ('kpc', 3.086*10**19), ('Mpc', 3.086*10**22),\n",
    "             ('m', 10**0), ('km', 10**3), ('Gm', 10**9), ('Mm', 10**10), ('Tm', 10**12), ('Pm', 10**15), ('Em', 10**18), ('Zm', 10**21), ('Ym', 10**24), ('Rm', 10**27)],\n",
    "    value=10**0,\n",
    "    description='from unit:',\n",
    "    layout={'width': '48%'})\n",
    "\n",
    "\n",
    "unit_out_astro = widgets.Dropdown(\n",
    "    options=[('AU', 1.49*10**11),\n",
    "             ('ly', 9.461*10**15), ('Lh', 1.079**12), ('Lm', 1.799*10**9), ('Ls', 2.998*10**6),\n",
    "             ('pc', 3.086*10**16), ('kpc', 3.086*10**19), ('Mpc', 3.086*10**22),\n",
    "             ('m', 10**0), ('km', 10**3), ('Gm', 10**9), ('Mm', 10**10), ('Tm', 10**12), ('Pm', 10**15), ('Em', 10**18), ('Zm', 10**21), ('Ym', 10**24), ('Rm', 10**27)],\n",
    "    value=1.49*10**11,\n",
    "    description='to unit:',\n",
    "    layout={'width': '48%'})\n",
    "\n",
    "# Output\n",
    "out4 = widgets.Output()\n",
    "\n",
    "# Button\n",
    "submit_button_astro = widgets.Button(description='CONVERT', layout={'width':'98%'})\n",
    "submit_button_astro.add_class(\"top-spacing-class\")\n",
    "submit_button_astro.add_class(\"bottom-spacing-class\")\n",
    "\n",
    "# ------ Layout ----------------------------------------------------------------\n",
    "\n",
    "# Content\n",
    "hbox1_astro = widgets.HBox([value_in_astro, value_out_astro])\n",
    "hbox2_astro = widgets.HBox([unit_in_astro, unit_out_astro])\n",
    "grid_astro = widgets.VBox([hbox1_astro, hbox2_astro])\n",
    "\n",
    "# All\n",
    "ui_astro = widgets.VBox([grid_astro, submit_button_astro])\n",
    "\n",
    "# --- II. Funktionen -----------------------------------------------------------\n",
    "\n",
    "# Berechnung\n",
    "def calculate_astro(value_in_astro, unit_in_astro, unit_out_astro):\n",
    "  return value_in_astro.value * unit_in_astro.value / unit_out_astro.value\n",
    "\n",
    "# Ausführung\n",
    "def submit_astro(button):\n",
    "    value_out_astro.value = calculate_astro(value_in_astro, unit_in_astro, unit_out_astro)\n",
    "    out4.clear_output()\n",
    "    with out4:\n",
    "        display(value_out_astro.value)\n",
    "\n",
    "# --- III. Ausführung ----------------------------------------------------------\n",
    "\n",
    "# Trigger\n",
    "submit_button_astro.on_click(submit_astro)\n",
    "\n",
    "# Anzeige\n",
    "\n",
    "display(HTML(\"<style>.top-spacing-class {margin-top: 10px;}</style>\"))\n",
    "display(HTML(\"<style>.bottom-spacing-class {margin-bottom: 10px;}</style>\"))\n",
    "\n",
    "display(ui_astro)"
   ]
  },
  {
   "cell_type": "markdown",
   "id": "dfcd0152-1df2-4755-a884-a5eb6fb463d7",
   "metadata": {
    "id": "xjQzsqbju42p"
   },
   "source": [
    "### Table IV: Astronomical Distances Conversion Aid\n",
    "---"
   ]
  },
  {
   "cell_type": "markdown",
   "id": "f7ca7602-2a35-478e-9d60-d9114b8254fb",
   "metadata": {
    "id": "cW3rb7n-wkE6"
   },
   "source": [
    "|unit                      |abbreviation  |conversion factor |key:value              |tuple                   |\n",
    "|--------------------------|--------------|------------------|-----------------------|------------------------|\n",
    "|**meter**                 |**m**         |**1E+0**          |`'m'  : 10**0`         |`('m' , 10**0)`          |\n",
    "|kilometer                 |km            |1E+3              |`'km' : 10**3`         |`('km', 10**3)`         |\n",
    "|gigameter                 |Gm            |1E+9              |`'Gm' : 10**9`         |`('Gm', 10**9)`         |\n",
    "|megameter                 |Mm            |1E+10             |`'Mm' : 10**10`        |`('Mm', 10**10)`        |\n",
    "|terameter                 |Tm            |1E+12             |`'Tm' : 10**12`        |`('Tm', 10**12)`        |\n",
    "|petameter                 |Pm            |1E+15             |`'Pm' : 10**15`        |`('Pm', 10**15)`        |\n",
    "|exameter                  |Em            |1E+18             |`'Em' : 10**18`        |`('Em', 10**18)`        |\n",
    "|zettameter                |Zm            |1E+21             |`'Zm' : 10**21`        |`('Zm', 10**21)`        |\n",
    "|yottameter                |Ym            |1E+24             |`'Ym' : 10**24`        |`('Ym', 10**24)`        |\n",
    "|ronnameter                |Rm            |1E+27             |`'Rm' : 10**27`        |`('Rm', 10**27)`        |\n",
    "|**astronomical unit**     |**AU**        |**1.496E+11**     |`'AU' : 1.496*10**11`   |`('AU', 1.496*10**11)`   |\n",
    "|**light year**            |**ly / (Lj)** |**9.4607E+15**    |`'ly' : 9.4607*10**11`  |`('ly', 9.4607*10**15)`  |\n",
    "|light hour                |(Lh)          |1.079E+12         |`'Lh' : 1.079*10**12`  |`('Lh',  1.079*10**12)` |\n",
    "|light minute              |(Lm)          |1.799E+9          |`'Lm' : 1.799*10**9`   |`('Lm',  1.799*10**9)`   |\n",
    "|light second              |(Ls)          |2.998E+6          |`'Ls' : 2.998*10**6`   |`('Ls',  2.998*10**6)`   |\n",
    "|**parsec**                |**pc**        |**3.086E+16**     |`'pc' : 3.086*10**16`  |`('pc',  3.086*10**16)`  |\n",
    "|kiloparsec                |kpc           |3.086E+19         |`'kpc' : 3.086*10**19` |`('kpc', 3.086*10**19)` |\n",
    "|megaparsec                |Mpc           |3.086E+22         |`'Mpc' : 3.086*10**22` |`('Mpc', 3.086*10**22)` |"
   ]
  }
 ],
 "metadata": {
  "kernelspec": {
   "display_name": "Python 3 (ipykernel)",
   "language": "python",
   "name": "python3"
  },
  "language_info": {
   "codemirror_mode": {
    "name": "ipython",
    "version": 3
   },
   "file_extension": ".py",
   "mimetype": "text/x-python",
   "name": "python",
   "nbconvert_exporter": "python",
   "pygments_lexer": "ipython3",
   "version": "3.11.9"
  }
 },
 "nbformat": 4,
 "nbformat_minor": 5
}
