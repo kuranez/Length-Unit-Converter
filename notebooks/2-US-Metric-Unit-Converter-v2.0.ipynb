{
 "cells": [
  {
   "attachments": {},
   "cell_type": "markdown",
   "id": "7793b717-680f-4155-8706-54b8bfc3ce1a",
   "metadata": {},
   "source": [
    "<center><image src=\"https://raw.githubusercontent.com/kuranez/Unit-Converter/main/images/banners/2-BANNER-IMPERIAL-METRIC.png\"></center>"
   ]
  },
  {
   "cell_type": "code",
   "execution_count": 9,
   "id": "6bedfce0-60b1-4fcd-be84-237eca5dc300",
   "metadata": {
    "colab": {
     "base_uri": "https://localhost:8080/",
     "height": 241,
     "referenced_widgets": [
      "30daaeddefaa448b882b411c0bab4551",
      "746fa9933ee24e8a950538060f1d4454",
      "c968867ebf5f464389a69fa45869b3db",
      "1e6568c271e14a13abc74a84df07036e",
      "209a318efaa54fbb9e00d0a4740890ec",
      "5fec1a1b000946638e9197dcfac3ece8",
      "30c9fa0cc3c243b9972ce3b00e466370",
      "58da7d0efb3a4242bda0856849637d27",
      "ddd07581356841618eebcefb072457b8",
      "842e9d420173460f810c47b09415b468",
      "7768ab74984c4bc9bb6fbc63a5722934",
      "1c707474621b4baeafa8ec6c6443c099",
      "d66153e0ae174900a723d585fa0e93fe",
      "e9307a0578c3443aaba787f21887be88",
      "00a6cfe6d4044ffe970ed8bcc3fdfbee",
      "7d100cf9f5394f7db0044216cef145f2",
      "acc2bfa1db6040be89a8d988444d5937",
      "29dd88baf1884bd9ba77855bd0118c9d",
      "4f543c783f7b4af084de1bbd1197f409",
      "676d8a51ead740d68a29862e174926c7",
      "12f655fd21054776a62f0999c34ea3c2",
      "cdf8a9dd6e794237ac804e42fa7b2cf5",
      "022c63fd69304badbec4a0dd36d890a2",
      "461a7b00ee8943a990d047ce11baf7f8",
      "e165ef2946114c93a567004d85ea4908",
      "93dd5d1d79ff48f3a8854b707dc6dac1",
      "a015070d268044eebc76ac6fbfe94f2d",
      "62d3440aab104fd0b206290f11148f1d",
      "64df598179d7403e950fc3384291e2ba",
      "b7682d932e304ebd80a44183917dde36",
      "55e63e0cf569481f827ef679067cbe12",
      "da0bb85bc9534d848043d4e8021fff30",
      "529745383bb44574b0925ebbfda7ca7d",
      "f2df6244710d49a584c17ef507362f4d"
     ]
    },
    "id": "A_j0n42aJTLp",
    "outputId": "be97dc3a-4428-44c4-a1ae-e92dbf6d9672"
   },
   "outputs": [
    {
     "data": {
      "text/html": [
       "<style>.bottom-spacing-class {margin-bottom: 20px;}</style>"
      ],
      "text/plain": [
       "<IPython.core.display.HTML object>"
      ]
     },
     "metadata": {},
     "output_type": "display_data"
    },
    {
     "data": {
      "text/html": [
       "<style>.right-spacing-class {margin-right: 20px;}</style>"
      ],
      "text/plain": [
       "<IPython.core.display.HTML object>"
      ]
     },
     "metadata": {},
     "output_type": "display_data"
    },
    {
     "data": {
      "application/vnd.jupyter.widget-view+json": {
       "model_id": "2897d8336a584be3ac9064a4111930a6",
       "version_major": 2,
       "version_minor": 0
      },
      "text/plain": [
       "VBox(children=(HBox(children=(Box(children=(HTML(value='<img src=\"https://raw.githubusercontent.com/kuranez/Un…"
      ]
     },
     "metadata": {},
     "output_type": "display_data"
    }
   ],
   "source": [
    "# Imperial to Metric - Unit Converter V2.0\n",
    "\n",
    "# init\n",
    "import ipywidgets as widgets\n",
    "from IPython.display import display, HTML\n",
    "\n",
    "# --- I. Variablen\n",
    "\n",
    "# ----- GUI-Elemente ----------\n",
    "\n",
    "# Felder für Werte\n",
    "\n",
    "value_in_us = widgets.FloatText(value=1, layout={'width': '100%'})\n",
    "value_out_us = widgets.FloatText(value=3.28084, layout={'width': '100%'}, disabled = True)\n",
    "\n",
    "\n",
    "# Menüs für Einheiten\n",
    "\n",
    "unit_in_us = widgets.ToggleButtons(\n",
    "    options=[('>> cm // centimeter // 0.01 <<', 0.01), \n",
    "             ('>> m // meter // 1 <<', 1), \n",
    "             ('>> km // kilometer // 1000 <<', 1000), \n",
    "             ('>> mile // mile // 1609.44 <<', 1609.44), \n",
    "             ('>> yd // yard // 1.09361 <<', 1.09361), \n",
    "             ('>> ft // foot // 3.28084 << ', 3.28084), \n",
    "             ('>> inch // inch // 0.254 <<', 0.0254)],\n",
    "    value=1,\n",
    "    style={'button_width':'100%'})\n",
    "\n",
    "unit_out_us = widgets.ToggleButtons(\n",
    "    options=[('>> cm // centimeter // 0.01 <<', 0.01), \n",
    "             ('>> m // meter // 1 <<', 1), \n",
    "             ('>> km // kilometer // 1000 <<', 1000), \n",
    "             ('>> mile // mile // 1609.44 <<', 1609.44), \n",
    "             ('>> yd // yard // 1.09361 <<', 1.09361), \n",
    "             ('>> ft // foot // 3.28084 << ', 3.28084), \n",
    "             ('>> inch // inch // 0.254 <<', 0.0254)],\n",
    "    value=3.28084,\n",
    "    style={'button_width':'100%'})\n",
    "\n",
    "\n",
    "# Output\n",
    "\n",
    "out2 = widgets.Output()\n",
    "\n",
    "\n",
    "# Button\n",
    "\n",
    "submit_button_us = widgets.Button(\n",
    "    description='>> CONVERT <<', \n",
    "    layout={'width':'100%'},\n",
    "    style={'button_color':'MediumVioletRed'})\n",
    "\n",
    "\n",
    "# Labels/Graphics\n",
    "\n",
    "img_in_us = widgets.HTML(\n",
    "    value='<img src=\"https://raw.githubusercontent.com/kuranez/Unit-Converter/main/images/labels/INPUT-50px.png\">')\n",
    "\n",
    "img_out_us = widgets.HTML(\n",
    "    value='<img src=\"https://raw.githubusercontent.com/kuranez/Unit-Converter/main/images/labels/OUTPUT-50px.png\">')\n",
    "\n",
    "img_from_us = widgets.HTML(\n",
    "    value='<img src=\"https://raw.githubusercontent.com/kuranez/Unit-Converter/main/images/labels/FROM_UNIT-50px.png\">')\n",
    "\n",
    "img_to_us = widgets.HTML(\n",
    "    value='<img src=\"https://raw.githubusercontent.com/kuranez/Unit-Converter/main/images/labels/TO_UNIT-50px.png\">')\n",
    "\n",
    "# ------ Layout ----------\n",
    "\n",
    "# Box-Layout\n",
    "\n",
    "box_layout = widgets.Layout(\n",
    "    display = 'flex',\n",
    "    flex_flow = 'column',\n",
    "    align_items = 'stretch',\n",
    "    width = '50%')\n",
    "\n",
    "# Content\n",
    "\n",
    "vbox_in_us = widgets.Box(\n",
    "    children = ([img_in_us, value_in_us, img_from_us, unit_in_us]),\n",
    "    layout = box_layout)\n",
    "\n",
    "vbox_in_us.add_class(\"right-spacing-class\")\n",
    "\n",
    "vbox_out_us = widgets.Box(\n",
    "    children = ([img_out_us, value_out_us, img_to_us, unit_out_us]),\n",
    "    layout = box_layout)\n",
    "\n",
    "grid_us = widgets.HBox([vbox_in_us, vbox_out_us])\n",
    "grid_us.add_class(\"bottom-spacing-class\")\n",
    "\n",
    "# All\n",
    "\n",
    "ui_us = widgets.VBox([grid_us, submit_button_us])\n",
    "\n",
    "\n",
    "# --- II. Funktionen \n",
    "\n",
    "# ----- Berechnung ----------\n",
    "\n",
    "def calculate_us(value_in_us, unit_in_us, unit_out_us):\n",
    "  return value_in_us.value * unit_in_us.value / unit_out_us.value\n",
    "\n",
    "\n",
    "# ----- Ausführung ----------\n",
    "def submit_us(button):\n",
    "    value_out_us.value = calculate_us(value_in_us, unit_in_us, unit_out_us)\n",
    "    out2.clear_output()\n",
    "    with out2:\n",
    "        display(value_out_us.value)\n",
    "\n",
    "\n",
    "# --- III. Ausführung \n",
    "\n",
    "# ----- Trigger ----------\n",
    "\n",
    "submit_button_us.on_click(submit_us)\n",
    "\n",
    "\n",
    "# ----- Anzeige ----------\n",
    "\n",
    "display(HTML(\"<style>.bottom-spacing-class {margin-bottom: 20px;}</style>\"))\n",
    "display(HTML(\"<style>.right-spacing-class {margin-right: 20px;}</style>\"))\n",
    "\n",
    "display(ui_us)"
   ]
  },
  {
   "cell_type": "code",
   "execution_count": null,
   "id": "447ff2f5-077a-48a2-b6c4-f5938fd95ae0",
   "metadata": {},
   "outputs": [],
   "source": [
    "# voila /home/kuranez/Desktop/Workspace/Projects/Unit-Converter-V2/notebooks/5-Atomic-Scale-Unit-Converter-v2.0.ipynb --theme=\"JupyterLab Miami Nights\""
   ]
  },
  {
   "cell_type": "code",
   "execution_count": 77,
   "id": "90632beb-8e92-4cee-8751-22cc4cfdc079",
   "metadata": {},
   "outputs": [],
   "source": [
    "# var.layout.keys\n",
    "# var.style.keys\n"
   ]
  }
 ],
 "metadata": {
  "voila": {
   "theme" : "JupyterLab Miami Nights"
  },
  "kernelspec": {
   "display_name": "Python 3 (ipykernel)",
   "language": "python",
   "name": "python3"
  },
  "language_info": {
   "codemirror_mode": {
    "name": "ipython",
    "version": 3
   },
   "file_extension": ".py",
   "mimetype": "text/x-python",
   "name": "python",
   "nbconvert_exporter": "python",
   "pygments_lexer": "ipython3",
   "version": "3.10.14"
  }
 },
 "nbformat": 4,
 "nbformat_minor": 5
}
