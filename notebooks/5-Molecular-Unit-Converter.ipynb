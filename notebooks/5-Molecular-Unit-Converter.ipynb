{
 "cells": [
  {
   "cell_type": "markdown",
   "id": "4eae4e15-0121-4d69-8af5-d0b44f0992fa",
   "metadata": {
    "id": "A610-_MxtDK_"
   },
   "source": [
    "## Atomic and Molecular Distances\n",
    "---"
   ]
  },
  {
   "cell_type": "code",
   "execution_count": 1,
   "id": "bf48fab7-83e8-4daf-af3a-2a47c48c4d53",
   "metadata": {
    "colab": {
     "base_uri": "https://localhost:8080/",
     "height": 124,
     "referenced_widgets": [
      "b38352f5c2f3471fa61830de3044e319",
      "0a5be1443af04afeb0189c498a782fcc",
      "611fa16d7a08401cb6766f76e7cc5e31",
      "d10a380c1cc14db59bfa81d74aca71a1",
      "46f329f6fd66485c823c23a8d81b8075",
      "08f82e69ecca498f8bb6fc2f78723d69",
      "e98ad2676bf84a9394561a075f9ac01f",
      "f95a509e34c6404ea76d45ddecfafc0c",
      "063893595fcf49e09c2f5cb06f3f94da",
      "dddc6c37a25b4d9aa57c4b76f49b67e2",
      "11b2482c18e94062b52e315166e96ff3",
      "cec75fc09cd44287ac027fa9f1e9024f",
      "b597eec5ebc0409681963e43f3cea30b",
      "c840efaf3ab049eabd376afcbdc112ac",
      "d65a94b3dd9c4c13be5de0cad3cf44f4",
      "eb40718dd60a44e1a1091e38e02dd075",
      "1abc0be1a01e4c6ea757a37834f72b8a",
      "351476747a154b1d9425c7bc42210b99",
      "c915b0aac5d44c67a203914dc2e590dc",
      "d5cf3c07b1944ab49e11e88f739910a0",
      "50020ae3eec3499c8c1320f7825d2350",
      "db151fbf38a94edebad7e75f7235a10a",
      "39704cd00d8b42b7beb9f57b602d89df"
     ]
    },
    "id": "HRYiuGYqvkbi",
    "outputId": "d3f82a19-f309-485c-d5e2-14789540e63d"
   },
   "outputs": [
    {
     "data": {
      "text/html": [
       "<style>.top-spacing-class {margin-top: 5px;}</style>"
      ],
      "text/plain": [
       "<IPython.core.display.HTML object>"
      ]
     },
     "metadata": {},
     "output_type": "display_data"
    },
    {
     "data": {
      "text/html": [
       "<style>.bottom-spacing-class {margin-bottom: 10px;}</style>"
      ],
      "text/plain": [
       "<IPython.core.display.HTML object>"
      ]
     },
     "metadata": {},
     "output_type": "display_data"
    },
    {
     "data": {
      "application/vnd.jupyter.widget-view+json": {
       "model_id": "ca8ec128967a4143a0d08c9b5ba07406",
       "version_major": 2,
       "version_minor": 0
      },
      "text/plain": [
       "VBox(children=(VBox(children=(HBox(children=(FloatText(value=1e-10, description='input:', layout=Layout(width=…"
      ]
     },
     "metadata": {},
     "output_type": "display_data"
    }
   ],
   "source": [
    "# Molecular-Distances-Unit-Converter-App V1.2\n",
    "\n",
    "import ipywidgets as widgets\n",
    "from IPython.display import display, HTML\n",
    "\n",
    "# --- I. Variablen: GUI-Elemente -----------------------------------------------\n",
    "\n",
    "# ------ Content: Eingabe, Ausgabe, Buttons, etc. ------------------------------\n",
    "\n",
    "# Felder für Werte\n",
    "value_in_mol = widgets.FloatText(value=10**-10, description='input:', layout={'width': '48%'})\n",
    "value_out_mol = widgets.FloatText(value=10**0, description='output:', layout={'width': '48%'}, disabled = True)\n",
    "\n",
    "# Menüs für Einheiten\n",
    "\n",
    "unit_in_mol = widgets.Dropdown(\n",
    "    options=[('m', 10**0),('nm',10**-9), ('Å', 10**-10), ('pm', 10**-12)],\n",
    "    value=10**0,\n",
    "    description='from unit:',\n",
    "    layout={'width': '48%'})\n",
    "\n",
    "\n",
    "unit_out_mol = widgets.Dropdown(\n",
    "    options=[('m', 10**0),('nm',10**-9), ('Å', 10**-10), ('pm', 10**-12)],\n",
    "    value=10**-10,\n",
    "    description='to unit:',\n",
    "    layout={'width': '48%'})\n",
    "\n",
    "# Output\n",
    "out5 = widgets.Output()\n",
    "\n",
    "# Button\n",
    "submit_button_mol = widgets.Button(description='CONVERT', layout={'width':'98%'})\n",
    "submit_button_mol.add_class(\"top-spacing-class\")\n",
    "submit_button_mol.add_class(\"bottom-spacing-class\")\n",
    "\n",
    "# ------ Layout ----------------------------------------------------------------\n",
    "\n",
    "# Content\n",
    "hbox1_mol = widgets.HBox([value_in_mol, value_out_mol])\n",
    "hbox2_mol = widgets.HBox([unit_in_mol, unit_out_mol])\n",
    "grid_mol = widgets.VBox([hbox1_mol, hbox2_mol])\n",
    "\n",
    "# All\n",
    "ui_mol = widgets.VBox([grid_mol, submit_button_mol])\n",
    "\n",
    "# --- II. Funktionen -----------------------------------------------------------\n",
    "\n",
    "# Berechnung\n",
    "def calculate_mol(value_in_mol, unit_in_mol, unit_out_mol):\n",
    "  return value_in_mol.value * unit_in_mol.value / unit_out_mol.value\n",
    "\n",
    "# Ausführung\n",
    "def submit_mol(button):\n",
    "    value_out_mol.value = calculate_mol(value_in_mol, unit_in_mol, unit_out_mol)\n",
    "    out5.clear_output()\n",
    "    with out5:\n",
    "        display(value_out_mol.value)\n",
    "\n",
    "# --- III. Ausführung ----------------------------------------------------------\n",
    "\n",
    "# Trigger\n",
    "submit_button_mol.on_click(submit_mol)\n",
    "\n",
    "# Anzeige\n",
    "\n",
    "display(HTML(\"<style>.top-spacing-class {margin-top: 5px;}</style>\"))\n",
    "display(HTML(\"<style>.bottom-spacing-class {margin-bottom: 10px;}</style>\"))\n",
    "\n",
    "display(ui_mol)"
   ]
  },
  {
   "cell_type": "markdown",
   "id": "131fd56b-4ed5-413b-8c04-29e39b3b2b26",
   "metadata": {
    "id": "r2zAjIa3vWNZ"
   },
   "source": [
    "### Table V: Atomical and Molecular Distances Conversion Aid\n",
    "---"
   ]
  },
  {
   "cell_type": "markdown",
   "id": "a86f5d65-bcf5-4dfe-ad57-4021d4b5f9c0",
   "metadata": {
    "id": "FMU2iHByw1cI"
   },
   "source": [
    "|unit          |abbreviation |conversion factor |key:value        |tuple             |\n",
    "|--------------|-------------|------------------|-----------------|------------------|\n",
    "|**meter**     |**m**        |**1E+0**          |`'m' : 10**0`    |`('m', 10**0)`    |\n",
    "|nanometer     |nm           |1E-9              |`'nm' : 10**-9`  |`('nm', 10**-9)`  |\n",
    "|**Ångstroem** |**Å**        |**1E-10**         |`'Å' : 10**-10`  |`('Å', 10**-10)`  |\n",
    "|picometer     |pm           |1E-12             |`'pm' : 10**-12` |`('pm', 10**-12)` |"
   ]
  }
 ],
 "metadata": {
  "kernelspec": {
   "display_name": "Python 3 (ipykernel)",
   "language": "python",
   "name": "python3"
  },
  "language_info": {
   "codemirror_mode": {
    "name": "ipython",
    "version": 3
   },
   "file_extension": ".py",
   "mimetype": "text/x-python",
   "name": "python",
   "nbconvert_exporter": "python",
   "pygments_lexer": "ipython3",
   "version": "3.11.9"
  }
 },
 "nbformat": 4,
 "nbformat_minor": 5
}
