{
  "nbformat": 4,
  "nbformat_minor": 0,
  "metadata": {
    "colab": {
      "provenance": []
    },
    "kernelspec": {
      "name": "python3",
      "display_name": "Python 3"
    },
    "language_info": {
      "name": "python"
    }
  },
  "cells": [
    {
      "cell_type": "markdown",
      "source": [
        "# Molecular Distances Unit Converter\n",
        "---\n",
        "### Convert small units for atomic and molecular distances.\n",
        "---\n",
        "**github**: https://github.com/kuranez/Length-Unit-Converter/"
      ],
      "metadata": {
        "id": "oTPdDarm3xRF"
      }
    },
    {
      "cell_type": "code",
      "source": [
        "# Molecular-Distances-Unit-Converter-App V1.3\n",
        "\n",
        "import ipywidgets as widgets\n",
        "from IPython.display import display, HTML\n",
        "\n",
        "# --- I. Variablen: GUI-Elemente -----------------------------------------------\n",
        "\n",
        "# ------ Content: Eingabe, Ausgabe, Buttons, etc. ------------------------------\n",
        "\n",
        "# Felder für Werte\n",
        "value_in_mol = widgets.FloatText(value=10**-10, description='input:', layout={'width': '48%'})\n",
        "value_out_mol = widgets.FloatText(value=10**0, description='output:', layout={'width': '48%'}, disabled = True)\n",
        "\n",
        "# Menüs für Einheiten\n",
        "\n",
        "unit_in_mol = widgets.Dropdown(\n",
        "    options=[('m', 10**0),('nm',10**-9), ('Å', 10**-10), ('pm', 10**-12)],\n",
        "    value=10**0,\n",
        "    description='from unit:',\n",
        "    layout={'width': '48%'})\n",
        "\n",
        "\n",
        "unit_out_mol = widgets.Dropdown(\n",
        "    options=[('m', 10**0),('nm',10**-9), ('Å', 10**-10), ('pm', 10**-12)],\n",
        "    value=10**-10,\n",
        "    description='to unit:',\n",
        "    layout={'width': '48%'})\n",
        "\n",
        "# Output\n",
        "out5 = widgets.Output()\n",
        "\n",
        "# Button\n",
        "submit_button_mol = widgets.Button(description='CONVERT', layout={'width':'98%'})\n",
        "submit_button_mol.add_class(\"top-spacing-class\")\n",
        "submit_button_mol.add_class(\"bottom-spacing-class\")\n",
        "\n",
        "# ------ Layout ----------------------------------------------------------------\n",
        "\n",
        "# Content\n",
        "hbox1_mol = widgets.HBox([value_in_mol, value_out_mol])\n",
        "hbox2_mol = widgets.HBox([unit_in_mol, unit_out_mol])\n",
        "grid_mol = widgets.VBox([hbox1_mol, hbox2_mol])\n",
        "\n",
        "# All\n",
        "ui_mol = widgets.VBox([grid_mol, submit_button_mol])\n",
        "\n",
        "# --- II. Funktionen -----------------------------------------------------------\n",
        "\n",
        "# Berechnung\n",
        "def calculate_mol(value_in_mol, unit_in_mol, unit_out_mol):\n",
        "  return round(value_in_mol.value * unit_in_mol.value / unit_out_mol.value, 4)\n",
        "\n",
        "# Ausführung\n",
        "def submit_mol(button):\n",
        "    value_out_mol.value = calculate_mol(value_in_mol, unit_in_mol, unit_out_mol)\n",
        "    out5.clear_output()\n",
        "    with out5:\n",
        "        display(value_out_mol.value)\n",
        "\n",
        "# --- III. Ausführung ----------------------------------------------------------\n",
        "\n",
        "# Trigger\n",
        "submit_button_mol.on_click(submit_mol)\n",
        "\n",
        "# Anzeige\n",
        "\n",
        "display(HTML(\"<style>.top-spacing-class {margin-top: 5px;}</style>\"))\n",
        "display(HTML(\"<style>.bottom-spacing-class {margin-bottom: 10px;}</style>\"))\n",
        "\n",
        "display(ui_mol)"
      ],
      "metadata": {
        "id": "LyndWy1D3u07"
      },
      "execution_count": null,
      "outputs": []
    },
    {
      "cell_type": "markdown",
      "source": [
        "### Table: Atomical and Molecular Distances Conversion Aid\n",
        "---"
      ],
      "metadata": {
        "id": "yzS9vMjr4CHy"
      }
    },
    {
      "cell_type": "markdown",
      "source": [
        "|unit          |abbreviation |conversion factor |key:value        |tuple             |\n",
        "|--------------|-------------|------------------|-----------------|------------------|\n",
        "|**meter**     |**m**        |**1E+0**          |`'m' : 10**0`    |`('m', 10**0)`    |\n",
        "|nanometer     |nm           |1E-9              |`'nm' : 10**-9`  |`('nm',10**-9)`   |\n",
        "|**Ångstroem** |**Å**        |**1E-10**         |`'Å' : 10**-10`  |`('Å', 10**-10)`  |\n",
        "|picometer     |pm           |1E-12             |`'pm' : 10**-12` |`('pm', 10**-12)` |"
      ],
      "metadata": {
        "id": "IyjA9MXA4Hd6"
      }
    }
  ]
}