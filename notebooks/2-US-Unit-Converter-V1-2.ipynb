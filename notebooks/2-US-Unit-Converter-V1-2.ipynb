{
 "cells": [
  {
   "cell_type": "markdown",
   "id": "0e4729d5-240f-4777-a23c-e24cb1af4b63",
   "metadata": {
    "id": "zyio60xcsjxh"
   },
   "source": [
    "## Imperial Units (US) to Metric\n",
    "---"
   ]
  },
  {
   "cell_type": "code",
   "execution_count": null,
   "id": "745b8422-8491-4c9b-bc88-995c766442c4",
   "metadata": {},
   "outputs": [],
   "source": [
    "# US-Unit-Converter-App V1.2\n",
    "\n",
    "import ipywidgets as widgets\n",
    "from IPython.display import display, HTML\n",
    "\n",
    "# --- I. Variablen: GUI-Elemente -----------------------------------------------\n",
    "\n",
    "# ------ Content: Eingabe, Ausgabe, Buttons, etc. ------------------------------\n",
    "\n",
    "# Felder für Werte\n",
    "value_in_US = widgets.FloatText(value=1, description='input:', layout={'width': '48%'})\n",
    "value_out_US = widgets.FloatText(value=3.28084, description='output:', layout={'width': '48%'}, disabled = True)\n",
    "\n",
    "# Menüs für Einheiten\n",
    "\n",
    "unit_in_US = widgets.Dropdown(\n",
    "    options=[('cm', 0.01), ('m', 1), ('km', 1000), ('mile', 1609.44), ('yd', 1.09361), ('ft', 3.28084), ('inch', 0.0254)],\n",
    "    value=1,\n",
    "    description='from unit:',\n",
    "    layout={'width': '48%'})\n",
    "\n",
    "\n",
    "unit_out_US = widgets.Dropdown(\n",
    "    options=[('cm', 0.01), ('m', 1), ('km', 1000), ('mile', 1609.44), ('yd', 1.09361), ('ft', 3.28084), ('inch', 0.0254)],\n",
    "    value=3.28084,\n",
    "    description='to unit:',\n",
    "    layout={'width': '48%'})\n",
    "\n",
    "# Output\n",
    "out2 = widgets.Output()\n",
    "\n",
    "# Button\n",
    "submit_button_US = widgets.Button(description='CONVERT', layout={'width':'98%'})\n",
    "submit_button_US.add_class(\"top-spacing-class\")\n",
    "submit_button_US.add_class(\"bottom-spacing-class\")\n",
    "\n",
    "# ------ Layout ----------------------------------------------------------------\n",
    "\n",
    "# Content\n",
    "hbox1_US = widgets.HBox([value_in_US, value_out_US])\n",
    "hbox2_US = widgets.HBox([unit_in_US, unit_out_US])\n",
    "grid_US = widgets.VBox([hbox1_US, hbox2_US])\n",
    "\n",
    "# All\n",
    "ui_US = widgets.VBox([grid_US, submit_button_US])\n",
    "\n",
    "# --- II. Funktionen -----------------------------------------------------------\n",
    "\n",
    "# Berechnung\n",
    "def calculateUS(value_in_US, unit_in_US, unit_out_US):\n",
    "  return value_in_US.value * unit_out_US.value / unit_in_US.value\n",
    "\n",
    "# Ausführung\n",
    "def submitUS(button):\n",
    "    value_out_US.value = calculateUS(value_in_US, unit_in_US, unit_out_US)\n",
    "    out2.clear_output()\n",
    "    with out2:\n",
    "        display(value_out_US.value)\n",
    "\n",
    "# --- III. Ausführung ----------------------------------------------------------\n",
    "\n",
    "# Trigger\n",
    "submit_button_US.on_click(submitUS)\n",
    "\n",
    "# Anzeige\n",
    "\n",
    "display(HTML(\"<style>.top-spacing-class {margin-top: 10px;}</style>\"))\n",
    "display(HTML(\"<style>.bottom-spacing-class {margin-bottom: 10px;}</style>\"))\n",
    "\n",
    "display(ui_US)"
   ]
  },
  {
   "cell_type": "markdown",
   "id": "f209ff70-64c3-4933-8284-14ed7a7d5dd7",
   "metadata": {
    "id": "nXnLYoM1uq_p"
   },
   "source": [
    "### Table: Imperial to Metric Conversion Aid\n",
    "---"
   ]
  },
  {
   "cell_type": "markdown",
   "id": "f4237abd-c244-42de-a9cf-d5c1474a85a2",
   "metadata": {
    "id": "nFPLqI2YwbF2"
   },
   "source": [
    "|unit        |abbreviation |conversion factor |key:value            |tuple               |\n",
    "|------------|-------------|------------------|---------------------|--------------------|\n",
    "|centimeter  |cm           |0.01              |`'cm' : 0.01`        |`('cm', 0.01)`      |\n",
    "|**meter**   |**m**        |**1**             |`'m' : 1`            |`('m', 1)`          |\n",
    "|kilometer   |km           |1000              |`'km' : 1000`        |`('km', 1000)`      |\n",
    "|**mile**    |**mile**     |**1609.44**       |`'mile' : 1609.44`   |`('mile', 1609.44)` |\n",
    "|yard        |yd           |1.09361           |`'yd' : 1.09361`     |`('yd', 1.09361)`   |\n",
    "|feet        |ft           |3.28084           |`'ft' : 3.28084 `    |`('ft', 3.28084)`   |\n",
    "|inch        |inch         |0.0254            |`'inch' : 0.0254 `   |`('inch', 0.0254)`  |"
   ]
  }
 ],
 "metadata": {
  "kernelspec": {
   "display_name": "Python 3 (ipykernel)",
   "language": "python",
   "name": "python3"
  },
  "language_info": {
   "codemirror_mode": {
    "name": "ipython",
    "version": 3
   },
   "file_extension": ".py",
   "mimetype": "text/x-python",
   "name": "python",
   "nbconvert_exporter": "python",
   "pygments_lexer": "ipython3",
   "version": "3.11.9"
  }
 },
 "nbformat": 4,
 "nbformat_minor": 5
}
