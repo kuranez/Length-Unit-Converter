{
 "cells": [
  {
   "attachments": {},
   "cell_type": "markdown",
   "id": "7793b717-680f-4155-8706-54b8bfc3ce1a",
   "metadata": {},
   "source": [
    "<center><image src=\"https://raw.githubusercontent.com/kuranez/Unit-Converter/main/images/banners/4-BANNER-ASTRO.png\"></center>"
   ]
  },
  {
   "cell_type": "code",
   "execution_count": 12,
   "id": "6bedfce0-60b1-4fcd-be84-237eca5dc300",
   "metadata": {
    "colab": {
     "base_uri": "https://localhost:8080/",
     "height": 241,
     "referenced_widgets": [
      "30daaeddefaa448b882b411c0bab4551",
      "746fa9933ee24e8a950538060f1d4454",
      "c968867ebf5f464389a69fa45869b3db",
      "1e6568c271e14a13abc74a84df07036e",
      "209a318efaa54fbb9e00d0a4740890ec",
      "5fec1a1b000946638e9197dcfac3ece8",
      "30c9fa0cc3c243b9972ce3b00e466370",
      "58da7d0efb3a4242bda0856849637d27",
      "ddd07581356841618eebcefb072457b8",
      "842e9d420173460f810c47b09415b468",
      "7768ab74984c4bc9bb6fbc63a5722934",
      "1c707474621b4baeafa8ec6c6443c099",
      "d66153e0ae174900a723d585fa0e93fe",
      "e9307a0578c3443aaba787f21887be88",
      "00a6cfe6d4044ffe970ed8bcc3fdfbee",
      "7d100cf9f5394f7db0044216cef145f2",
      "acc2bfa1db6040be89a8d988444d5937",
      "29dd88baf1884bd9ba77855bd0118c9d",
      "4f543c783f7b4af084de1bbd1197f409",
      "676d8a51ead740d68a29862e174926c7",
      "12f655fd21054776a62f0999c34ea3c2",
      "cdf8a9dd6e794237ac804e42fa7b2cf5",
      "022c63fd69304badbec4a0dd36d890a2",
      "461a7b00ee8943a990d047ce11baf7f8",
      "e165ef2946114c93a567004d85ea4908",
      "93dd5d1d79ff48f3a8854b707dc6dac1",
      "a015070d268044eebc76ac6fbfe94f2d",
      "62d3440aab104fd0b206290f11148f1d",
      "64df598179d7403e950fc3384291e2ba",
      "b7682d932e304ebd80a44183917dde36",
      "55e63e0cf569481f827ef679067cbe12",
      "da0bb85bc9534d848043d4e8021fff30",
      "529745383bb44574b0925ebbfda7ca7d",
      "f2df6244710d49a584c17ef507362f4d"
     ]
    },
    "id": "A_j0n42aJTLp",
    "outputId": "be97dc3a-4428-44c4-a1ae-e92dbf6d9672"
   },
   "outputs": [
    {
     "data": {
      "text/html": [
       "<style>.bottom-spacing-class {margin-bottom: 20px;}</style>"
      ],
      "text/plain": [
       "<IPython.core.display.HTML object>"
      ]
     },
     "metadata": {},
     "output_type": "display_data"
    },
    {
     "data": {
      "text/html": [
       "<style>.right-spacing-class {margin-right: 20px;}</style>"
      ],
      "text/plain": [
       "<IPython.core.display.HTML object>"
      ]
     },
     "metadata": {},
     "output_type": "display_data"
    },
    {
     "data": {
      "application/vnd.jupyter.widget-view+json": {
       "model_id": "1c123baebcf64f2c86d1ca9bbe57096c",
       "version_major": 2,
       "version_minor": 0
      },
      "text/plain": [
       "VBox(children=(HBox(children=(Box(children=(HTML(value='<img src=\"https://raw.githubusercontent.com/kuranez/Un…"
      ]
     },
     "metadata": {},
     "output_type": "display_data"
    }
   ],
   "source": [
    "# Astronomical Distances - Unit Converter V2.0\n",
    "\n",
    "# init\n",
    "import ipywidgets as widgets\n",
    "from IPython.display import display, HTML\n",
    "\n",
    "# --- I. Variablen\n",
    "\n",
    "# ----- GUI-Elemente ----------\n",
    "\n",
    "# Felder für Werte\n",
    "\n",
    "value_in_astro = widgets.FloatText(value=1, layout={'width': '100%'})\n",
    "value_out_astro = widgets.FloatText(value=1.49*10**11, layout={'width': '100%'}, disabled = True)\n",
    "\n",
    "\n",
    "# Menüs für Einheiten\n",
    "\n",
    "unit_in_astro = widgets.ToggleButtons(\n",
    "    options=[('>> AU // astronomical unit // 1.49 x E+11 <<', 1.49*10**11),\n",
    "             ('>> ly // light year // 9.461  x E+15 <<', 9.461*10**15), \n",
    "             ('>> Lh // light hour // 1.079 x E+12 <<', 1.079*10**12), \n",
    "             ('>> Lm // light minute // 1.799 x E+09 <<', 1.799*10**9), \n",
    "             ('>> Ls // light second // 2.998 x E+06 <<', 2.998*10**6),\n",
    "             ('>> pc // parsec // 3.086 x E+16 <<', 3.086*10**16), \n",
    "             ('>> kpc // kiloparsec // 3.086 x E+19 <<', 3.086*10**19), \n",
    "             ('>> Mpc // megaparsec // 3.086 x E+22 <<', 3.086*10**22),\n",
    "             ('>> m // meter // (base) <<', 10**0), \n",
    "             ('>> km // kilometer // E+03 <<', 10**3), \n",
    "             ('>> Gm // gigameter // E+09 <<', 10**9), \n",
    "             ('>> Mm // megameter // E+10 <<', 10**10), \n",
    "             ('>> Tm // terameter // E+12 <<', 10**12), \n",
    "             ('>> Pm // petameter // E+15 <<', 10**15), \n",
    "             ('>> Em // exameter // E+18 <<', 10**18), \n",
    "             ('>> Zm // zettameter // E+21 <<', 10**21), \n",
    "             ('>> Ym // yottameter // E+24 <<', 10**24), \n",
    "             ('>> Rm // ronnameter // E+27 <<', 10**27)],\n",
    "    value=1,\n",
    "    style={'button_width':'100%'})\n",
    "\n",
    "unit_out_astro = widgets.ToggleButtons(\n",
    "    options=[('>> AU // astronomical unit // 1.49 x E+11 <<', 1.49*10**11),\n",
    "             ('>> ly // light year // 9.461  x E+15 <<', 9.461*10**15), \n",
    "             ('>> Lh // light hour // 1.079 x E+12 <<', 1.079*10**12), \n",
    "             ('>> Lm // light minute // 1.799 x E+09 <<', 1.799*10**9), \n",
    "             ('>> Ls // light second // 2.998 x E+06 <<', 2.998*10**6),\n",
    "             ('>> pc // parsec // 3.086 x E+16 <<', 3.086*10**16), \n",
    "             ('>> kpc // kiloparsec // 3.086 x E+19 <<', 3.086*10**19), \n",
    "             ('>> Mpc // megaparsec // 3.086 x E+22 <<', 3.086*10**22),\n",
    "             ('>> m // meter // (base) <<', 10**0), \n",
    "             ('>> km // kilometer // E+03 <<', 10**3), \n",
    "             ('>> Gm // gigameter // E+09 <<', 10**9), \n",
    "             ('>> Mm // megameter // E+10 <<', 10**10), \n",
    "             ('>> Tm // terameter // E+12 <<', 10**12), \n",
    "             ('>> Pm // petameter // E+15 <<', 10**15), \n",
    "             ('>> Em // exameter // E+18 <<', 10**18), \n",
    "             ('>> Zm // zettameter // E+21 <<', 10**21), \n",
    "             ('>> Ym // yottameter // E+24 <<', 10**24), \n",
    "             ('>> Rm // ronnameter // E+27 <<', 10**27)],\n",
    "    value=1.49*10**11,\n",
    "    style={'button_width':'100%'})\n",
    "\n",
    "\n",
    "# Output\n",
    "\n",
    "out4 = widgets.Output()\n",
    "\n",
    "\n",
    "# Button\n",
    "\n",
    "submit_button_astro = widgets.Button(\n",
    "    description='>> CONVERT <<', \n",
    "    layout={'width':'100%'},\n",
    "    style={'button_color':'MediumVioletRed'})\n",
    "\n",
    "\n",
    "# Labels/Graphics\n",
    "\n",
    "img_in_astro = widgets.HTML(\n",
    "    value='<img src=\"https://raw.githubusercontent.com/kuranez/Unit-Converter/main/images/labels/INPUT-50px.png\">')\n",
    "\n",
    "img_out_astro = widgets.HTML(\n",
    "    value='<img src=\"https://raw.githubusercontent.com/kuranez/Unit-Converter/main/images/labels/OUTPUT-50px.png\">')\n",
    "\n",
    "img_from_astro = widgets.HTML(\n",
    "    value='<img src=\"https://raw.githubusercontent.com/kuranez/Unit-Converter/main/images/labels/FROM_UNIT-50px.png\">')\n",
    "\n",
    "img_to_astro = widgets.HTML(\n",
    "    value='<img src=\"https://raw.githubusercontent.com/kuranez/Unit-Converter/main/images/labels/TO_UNIT-50px.png\">')\n",
    "\n",
    "# ------ Layout ----------\n",
    "\n",
    "# Box-Layout\n",
    "\n",
    "box_layout = widgets.Layout(\n",
    "    display = 'flex',\n",
    "    flex_flow = 'column',\n",
    "    align_items = 'stretch',\n",
    "    width = '50%')\n",
    "\n",
    "# Content\n",
    "\n",
    "vbox_in_astro = widgets.Box(\n",
    "    children = ([img_in_astro, value_in_astro, img_from_astro, unit_in_astro]),\n",
    "    layout = box_layout)\n",
    "\n",
    "vbox_in_astro.add_class(\"right-spacing-class\")\n",
    "\n",
    "vbox_out_astro = widgets.Box(\n",
    "    children = ([img_out_astro, value_out_astro, img_to_astro, unit_out_astro]),\n",
    "    layout = box_layout)\n",
    "\n",
    "grid_astro = widgets.HBox([vbox_in_astro, vbox_out_astro])\n",
    "grid_astro.add_class(\"bottom-spacing-class\")\n",
    "\n",
    "# All\n",
    "\n",
    "ui_astro = widgets.VBox([grid_astro, submit_button_astro])\n",
    "\n",
    "\n",
    "# --- II. Funktionen \n",
    "\n",
    "# ----- Berechnung ----------\n",
    "\n",
    "def calculate_astro(value_in_astro, unit_in_astro, unit_out_astro):\n",
    "  return value_in_astro.value * unit_in_astro.value / unit_out_astro.value\n",
    "\n",
    "\n",
    "# ----- Ausführung ----------\n",
    "def submit_astro(button):\n",
    "    value_out_astro.value = calculate_astro(value_in_astro, unit_in_astro, unit_out_astro)\n",
    "    out4.clear_output()\n",
    "    with out4:\n",
    "        display(value_out_astro.value)\n",
    "\n",
    "\n",
    "# --- III. Ausführung \n",
    "\n",
    "# ----- Trigger ----------\n",
    "\n",
    "submit_button_astro.on_click(submit_astro)\n",
    "\n",
    "\n",
    "# ----- Anzeige ----------\n",
    "\n",
    "display(HTML(\"<style>.bottom-spacing-class {margin-bottom: 20px;}</style>\"))\n",
    "display(HTML(\"<style>.right-spacing-class {margin-right: 20px;}</style>\"))\n",
    "\n",
    "display(ui_astro)"
   ]
  },
  {
   "cell_type": "code",
   "execution_count": null,
   "id": "447ff2f5-077a-48a2-b6c4-f5938fd95ae0",
   "metadata": {},
   "outputs": [],
   "source": [
    "# voila /home/kuranez/Desktop/Workspace/Projects/Unit-Converter-V2/notebooks/5-Atomic-Scale-Unit-Converter-v2.0.ipynb --theme=\"JupyterLab Miami Nights\""
   ]
  },
  {
   "cell_type": "code",
   "execution_count": 77,
   "id": "90632beb-8e92-4cee-8751-22cc4cfdc079",
   "metadata": {},
   "outputs": [],
   "source": [
    "# var.layout.keys\n",
    "# var.style.keys\n"
   ]
  }
 ],
 "metadata": {
  "kernelspec": {
   "display_name": "Python 3 (ipykernel)",
   "language": "python",
   "name": "python3"
  },
  "language_info": {
   "codemirror_mode": {
    "name": "ipython",
    "version": 3
   },
   "file_extension": ".py",
   "mimetype": "text/x-python",
   "name": "python",
   "nbconvert_exporter": "python",
   "pygments_lexer": "ipython3",
   "version": "3.10.14"
  }
 },
 "nbformat": 4,
 "nbformat_minor": 5
}
